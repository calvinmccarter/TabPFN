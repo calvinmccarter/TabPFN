{
 "cells": [
  {
   "cell_type": "code",
   "execution_count": 1,
   "id": "205176a2-11e2-4573-b1e4-f4158a6eb6c7",
   "metadata": {
    "tags": []
   },
   "outputs": [],
   "source": [
    "from __future__ import annotations\n",
    "\n",
    "\n",
    "import argparse\n",
    "import pickle\n",
    "#import tikzplotlib\n",
    "import re\n",
    "from tqdm import tqdm\n",
    "from collections import Counter\n",
    "from copy import copy\n",
    "from dataclasses import dataclass\n",
    "from functools import partial\n",
    "from itertools import chain, product\n",
    "from pathlib import Path\n",
    "from typing import Callable, Iterable, Sequence, Optional, Tuple\n",
    "\n",
    "import colorcet as cc\n",
    "import matplotlib.pyplot as plt\n",
    "from matplotlib.lines import Line2D\n",
    "import matplotlib.patheffects as pe\n",
    "import numpy as np\n",
    "import pandas as pd\n",
    "import seaborn as sns\n",
    "import torch\n",
    "\n",
    "import operator\n",
    "import math\n",
    "from scipy.stats import wilcoxon\n",
    "from scipy.stats import friedmanchisquare\n",
    "import networkx\n",
    "\n",
    "\n",
    "import tabpfn.scripts.tabular_baselines as tb\n",
    "from tabpfn.datasets import load_openml_list, open_cc_dids, open_cc_valid_dids\n",
    "from tabpfn.scripts.tabular_baselines import clf_dict\n",
    "from tabpfn.scripts.tabular_evaluation import check_file_exists, evaluate, get_scoring_string\n",
    "from tabpfn.scripts.tabular_metrics import (accuracy_metric, auc_metric,\n",
    "                                            brier_score_metric,\n",
    "                                            calculate_score, cross_entropy,\n",
    "                                            ece_metric, time_metric)\n",
    "from tabpfn.utils import torch_nanmean\n",
    "\n",
    "from IPython.display import Image\n"
   ]
  },
  {
   "cell_type": "code",
   "execution_count": 2,
   "id": "43e89e06-a768-43f5-a6ac-25fb2492586a",
   "metadata": {
    "tags": []
   },
   "outputs": [],
   "source": [
    "HERE = Path(\".\").resolve().absolute()\n",
    "\n",
    "METRICS = {\n",
    "    \"roc\": auc_metric,\n",
    "    \"cross_entropy\": cross_entropy,\n",
    "    \"acc\": accuracy_metric,\n",
    "    \"brier_score\": brier_score_metric,\n",
    "    \"ece\": ece_metric,\n",
    "}\n",
    "\n",
    "PREDEFINED_RESULTS_PATH = HERE / \"TabPFNRawResultsHourSearch\"\n",
    "\n",
    "PREDFINED_DATASET_PATHS = HERE / \"tabpfn\" / \"datasets\"\n",
    "PREDEFINED_DATASET_COLLECTIONS = {\n",
    "    \"cc_valid\": {\n",
    "        \"ids\": open_cc_valid_dids,\n",
    "        \"path\": PREDFINED_DATASET_PATHS / \"cc_valid_datasets_multiclass.pickle\",\n",
    "    },\n",
    "    \"cc_test\": {\n",
    "        \"ids\": open_cc_dids,\n",
    "        \"path\": PREDFINED_DATASET_PATHS / \"cc_test_datasets_multiclass.pickle\",\n",
    "    },\n",
    "}\n",
    "\n",
    "\n",
    "LABEL_NAMES = {\n",
    "    \"transformer\": \"TabPFN\",\n",
    "    \"transformer_gpu_N_1\": \"TabPFN GPU (N_ens =  1)\",\n",
    "    \"transformer_gpu_N_4\": \"TabPFN GPU (N_ens =  4)\",\n",
    "    \"transformer_gpu_N_8\": \"TabPFN GPU (N_ens =  8)\",\n",
    "    \"transformer_gpu_N_32\": \"TabPFN GPU (N_ens = 32)\",\n",
    "    \"transformer_cpu_N_1\": \"TabPFN CPU (N_ens =  1)\",\n",
    "    \"transformer_cpu_N_4\": \"TabPFN CPU (N_ens =  4)\",\n",
    "    \"transformer_cpu_N_8\": \"TabPFN CPU (N_ens =  8)\",\n",
    "    \"transformer_cpu_N_32\": \"TabPFN CPU (N_ens = 32)\",\n",
    "    \"autogluon\": \"Autogluon\",\n",
    "    \"autosklearn2\": \"Autosklearn2\",\n",
    "    \"gp_default\": \"default GP (RBF)\",\n",
    "    \"gradient_boosting\": \"tuned Grad. Boost.\",\n",
    "    \"gradient_boosting_default\": \"default Grad. Boost.\",\n",
    "    \"lightgbm\": \"tuned LGBM\",\n",
    "    \"lightgbm_default\": \"default LGBM\",\n",
    "    \"gp\": \"tuned GP (RBF)\",\n",
    "    \"logistic\": \"tuned Log. Regr.\",\n",
    "    \"knn\": \"tuned KNN\",\n",
    "    \"catboost\": \"tuned Catboost\",\n",
    "    \"catboost_default\": \"default Catboost\",\n",
    "    \"xgb\": \"tuned XGB\",\n",
    "    \"xgb_default\": \"default XGB\",\n",
    "    # \"catboost_gpu\": \"tuned Catboost (GPU)\",\n",
    "    # \"catboost_default_gpu\": \"default Catboost (GPU)\",\n",
    "    # \"xgb_gpu\": \"tuned XGB (GPU)\",\n",
    "    # \"xgb_default_gpu\": \"default XGB (GPU)\",\n",
    "    \"svm\": \"tuned SVM\",\n",
    "    \"svm_default\": \"default SVM\",\n",
    "    \"random_forest\": \"tuned Random Forest\",\n",
    "    \"rf_default_n_estimators_10\": \"default Rand. Forest (N_est =  10)\",\n",
    "    \"rf_default_n_estimators_32\": \"default Rand. Forest (N_est =  32)\",\n",
    "    \"rf_default\": \"default Rand. Forest (N_est = 100)\",\n",
    "    \"autogluon\": \"AutoGluon\",\n",
    "    \"autosklearn\": \"AutoSklearn\",\n",
    "    \"autosklearn2\": \"AutoSklearn2\",\n",
    "    \"autopytorch\": \"Reg. Cocktails\",\n",
    "    # \"naiveautoml\": \"Naive AutoML\",\n",
    "    \"naiveautoml_iter_10\": \"Naive AutoML (max_hpo_iterations=10)\"\n",
    "}\n",
    "FAMILY_NAMES = {\n",
    "    \"gp\": \"GP\",\n",
    "    \"knn\": \"KNN\",\n",
    "    \"lightgbm\": \"LGBM\",\n",
    "    \"logistic\": \"Log. Regr.\",\n",
    "    \"rf\": \"RF\",\n",
    "    \"svm\": \"SVM\",\n",
    "    \"transformer_cpu\": \"TabPFN CPU\",\n",
    "    \"transformer_gpu\": \"TabPFN GPU\",\n",
    "    \"xgb\": \"XGB\",\n",
    "    \"xgb_gpu\": \"XGB GPU\",\n",
    "    \"catboost\": \"CatBoost\",\n",
    "    \"catboost_gpu\": \"CatBoost GPU\",\n",
    "    \"autogluon\": \"AutoGluon\",\n",
    "    # \"autosklearn\": \"AutoSklearn\",\n",
    "    \"autosklearn2\": \"AutoSklearn2\",\n",
    "    \"gradient_boosting\": \"GB\",\n",
    "    \"naiveautoml\": \"Naive AutoML\",\n",
    "    \"autopytorch\": \"Reg. Cocktails\",\n",
    "}\n",
    "\n",
    "\n",
    "TUNED_METHOD_SUBSET = [\"transformer_gpu_N_32\"]#, \"autosklearn2\", \"xgb\", \"svm\", \"gp\", \"lightgbm\", \"random_forest\", \"xgb_default\"]\n",
    "DEFAULT_METHOD_SUBSET = [\"transformer_gpu_N_1\"]#, \"lightgbm_default\", \"xgb_default\", \"svm_default\", \"gp_default\", \"rf_default\"]\n",
    "\n",
    "TUNED_ENSEMBLE_METHODS = [\n",
    "    'ensembletransformer_gpu_N_32autosklearn2',\n",
    "    'ensembletransformer_gpu_N_32gp',\n",
    "    'ensembletransformer_gpu_N_32lightgbm',\n",
    "    'ensembletransformer_gpu_N_32svm',\n",
    "    'ensembletransformer_gpu_N_32xgb',\n",
    "    'ensembletransformer_gpu_N_32xgb_default',\n",
    "    'ensembletransformer_gpu_N_32random_forest',\n",
    "    \"ensembletransformer_gpu_N_32autogluon\"\n",
    "]\n",
    "\n",
    "DEFAULT_ENSEMBLE_METHODS = [\n",
    "    'ensembletransformer_gpu_N_1gp_default',\n",
    "    'ensembletransformer_gpu_N_1lightgbm_default',\n",
    "    'ensembletransformer_gpu_N_1svm_default',\n",
    "    'ensembletransformer_gpu_N_1xgb_default',\n",
    "    'ensembletransformer_gpu_N_1rf_default'\n",
    "]\n",
    "\n",
    "ENSEMBLE_LABEL_NAMES = {\n",
    "    \"ensembletransformer_gpu_N_32autosklearn2\": \"TabPFN GPU (N_ens =  32) + AutoSklearn2\",\n",
    "    \"ensembletransformer_gpu_N_32gp\": \"TabPFN GPU (N_ens =  32) + tuned GP\",\n",
    "    \"ensembletransformer_gpu_N_32lightgbm\": \"TabPFN GPU (N_ens =  32) + tuned LightGBM\",\n",
    "    \"ensembletransformer_gpu_N_32svm\": \"TabPFN GPU (N_ens =  32) + tuned SVM\",\n",
    "    \"ensembletransformer_gpu_N_32xgb\": \"TabPFN GPU (N_ens =  32) + tuned XGB\",\n",
    "    \"ensembletransformer_gpu_N_32xgb_default\": \"TabPFN GPU (N_ens =  32) + default XGB\",\n",
    "    \"ensembletransformer_gpu_N_32random_forest\": \"TabPFN GPU (N_ens =  32) + tuned RF\",\n",
    "    \"ensembletransformer_gpu_N_1gp_default\": \"TabPFN GPU (N_ens =  1) + default GP\",\n",
    "    \"ensembletransformer_gpu_N_1lightgbm_default\": \"TabPFN GPU (N_ens =  1) + default LightGBM\",\n",
    "    \"ensembletransformer_gpu_N_1svm_default\": \"TabPFN GPU (N_ens =  1) + default SVM\",\n",
    "    \"ensembletransformer_gpu_N_1xgb_default\": \"TabPFN GPU (N_ens =  1) + default XGB\",\n",
    "    \"ensembletransformer_gpu_N_1rf_default\": \"TabPFN GPU (N_ens =  1) + default RF\",\n",
    "    \"ensembletransformer_gpu_N_32autogluon\": \"TabPFN GPU (N_ens =  32) + AutoGluon\",\n",
    "}\n",
    "\n",
    "ENSEMBLE_FAMILY_NAMES = {\n",
    "    \"ensembletransformer_gpu\": \"Ensemble\",\n",
    "    \"ensembletransformer_gpu_32xgb\": \"Ensemble XGB + TabPFN\",\n",
    "    \"ensembletransformer_cpu\": \"Ensemble\",\n",
    "\n",
    "}\n",
    "\n",
    "LABEL_NAMES = {**LABEL_NAMES, **ENSEMBLE_LABEL_NAMES}\n",
    "\n",
    "FAMILY_NAMES = {**FAMILY_NAMES, **ENSEMBLE_FAMILY_NAMES}\n",
    "\n",
    "\n",
    "TITLE_FONT_SIZE = 45\n",
    "XLABEL_FONT_SIZE = 30\n",
    "YLABEL_FONT_SIZE = 15"
   ]
  },
  {
   "cell_type": "code",
   "execution_count": 3,
   "id": "2df0006f-516c-4496-9e72-da021b0c6d51",
   "metadata": {
    "tags": []
   },
   "outputs": [],
   "source": [
    "# Predefined methods with `no_tune={}` inidicating they are not tuned\n",
    "METHODS = {\n",
    "    # Transformers\n",
    "    \"transformer_cpu_N_1\": partial(\n",
    "        clf_dict[\"transformer\"], device=\"cpu\", N_ensemble_configurations=1\n",
    "    ),\n",
    "    \"transformer_cpu_N_4\": partial(\n",
    "        clf_dict[\"transformer\"], device=\"cpu\", N_ensemble_configurations=4\n",
    "    ),\n",
    "    \"transformer_cpu_N_8\": partial(\n",
    "        clf_dict[\"transformer\"], device=\"cpu\", N_ensemble_configurations=8\n",
    "    ),\n",
    "    \"transformer_cpu_N_32\": partial(\n",
    "        clf_dict[\"transformer\"], device=\"cpu\", N_ensemble_configurations=32\n",
    "    ),\n",
    "    \"transformer_gpu_N_1\": partial(\n",
    "        clf_dict[\"transformer\"], device=\"cuda\", N_ensemble_configurations=1\n",
    "    ),\n",
    "    \"transformer_gpu_N_4\": partial(\n",
    "        clf_dict[\"transformer\"], device=\"cuda\", N_ensemble_configurations=4\n",
    "    ),\n",
    "    \"transformer_gpu_N_8\": partial(\n",
    "        clf_dict[\"transformer\"], device=\"cuda\", N_ensemble_configurations=8\n",
    "    ),\n",
    "    \"transformer_gpu_N_32\": partial(\n",
    "        clf_dict[\"transformer\"], device=\"cuda\", N_ensemble_configurations=32\n",
    "    ),\n",
    "}"
   ]
  },
  {
   "cell_type": "code",
   "execution_count": 4,
   "id": "ec1f6ffa-f3a6-47ac-9eb6-ac1265bd6a76",
   "metadata": {
    "tags": []
   },
   "outputs": [],
   "source": [
    "@dataclass\n",
    "class Dataset:\n",
    "    \"\"\"Small helper class just to name entries in the loaded pickled datasets.\"\"\"\n",
    "\n",
    "    name: str\n",
    "    X: torch.Tensor\n",
    "    y: torch.Tensor\n",
    "    categorical_columns: list[int]\n",
    "    attribute_names: list[str]\n",
    "    # Seems to be some things about how the dataset was constructed\n",
    "    info: dict\n",
    "    # Only 'multiclass' is known?\n",
    "    task_type: str\n",
    "\n",
    "    @property\n",
    "    def categorical(self) -> bool:\n",
    "        return len(self.categorical_columns) == len(self.attribute_names)\n",
    "\n",
    "    @property\n",
    "    def numerical(self) -> bool:\n",
    "        return len(self.categorical_columns) == 0\n",
    "\n",
    "    @property\n",
    "    def mixed(self) -> bool:\n",
    "        return not self.numerical and not self.categorical\n",
    "\n",
    "    @classmethod\n",
    "    def fetch(\n",
    "        self,\n",
    "        identifier: str | int | list[int],\n",
    "        only: Callable | None = None,\n",
    "    ) -> list[Dataset]:\n",
    "        if isinstance(identifier, str) and identifier in PREDEFINED_DATASET_COLLECTIONS:\n",
    "            datasets = Dataset.from_predefined(identifier)\n",
    "        elif isinstance(identifier, int):\n",
    "            identifier = [identifier]\n",
    "            datasets = Dataset.from_openml(identifier)\n",
    "        elif isinstance(identifier, list):\n",
    "            datasets = Dataset.from_openml(identifier)\n",
    "        else:\n",
    "            raise ValueError(identifier)\n",
    "\n",
    "        if only:\n",
    "            return list(filter(only, datasets))\n",
    "        else:\n",
    "            return datasets\n",
    "\n",
    "    @classmethod\n",
    "    def from_pickle(self, path: Path, task_types: str) -> list[Dataset]:\n",
    "        with path.open(\"rb\") as f:\n",
    "            raw = pickle.load(f)\n",
    "\n",
    "        return [Dataset(*entry, task_type=task_types) for entry in raw]  # type: ignore\n",
    "\n",
    "    @classmethod\n",
    "    def from_predefined(self, name: str) -> list[Dataset]:\n",
    "        assert name in PREDEFINED_DATASET_COLLECTIONS\n",
    "        path = PREDEFINED_DATASET_COLLECTIONS[name][\"path\"]\n",
    "\n",
    "        return Dataset.from_pickle(path, task_types=\"multiclass\")\n",
    "\n",
    "    @classmethod\n",
    "    def from_openml(\n",
    "        self,\n",
    "        dataset_id: int | list[int],\n",
    "        filter_for_nan: bool = False,\n",
    "        min_samples: int = 100,\n",
    "        max_samples: int = 2_000,\n",
    "        num_feats: int = 100,\n",
    "        return_capped: bool = False,\n",
    "        shuffled: bool = True,\n",
    "        multiclass: bool = True,\n",
    "    ) -> list[Dataset]:\n",
    "        # TODO: should be parametrized, defaults taken from ipy notebook\n",
    "        if not isinstance(dataset_id, list):\n",
    "            dataset_id = [dataset_id]\n",
    "\n",
    "        datasets, _ = load_openml_list(\n",
    "            dataset_id,\n",
    "            filter_for_nan=filter_for_nan,\n",
    "            num_feats=num_feats,\n",
    "            min_samples=min_samples,\n",
    "            max_samples=max_samples,\n",
    "            return_capped=return_capped,\n",
    "            shuffled=shuffled,\n",
    "            multiclass=multiclass,\n",
    "        )\n",
    "        return [\n",
    "            Dataset(  # type: ignore\n",
    "                *entry,\n",
    "                task_type=\"multiclass\" if multiclass else \"binary\",\n",
    "            )\n",
    "            for entry in datasets\n",
    "        ]\n",
    "\n",
    "    def as_list(self) -> list:\n",
    "        \"\"\"How the internals expect a dataset to look like.\"\"\"\n",
    "        return [\n",
    "            self.name,\n",
    "            self.X,\n",
    "            self.y,\n",
    "            self.categorical_columns,\n",
    "            self.attribute_names,\n",
    "            self.info,\n",
    "        ]"
   ]
  },
  {
   "cell_type": "code",
   "execution_count": 5,
   "id": "e3617f0c-19bd-42bf-bb43-f100e2a648bb",
   "metadata": {
    "tags": []
   },
   "outputs": [],
   "source": [
    "@dataclass\n",
    "class Results:\n",
    "    # Big ass predefined dictionary\n",
    "    df: pd.DataFrame\n",
    "\n",
    "    @classmethod\n",
    "    def from_dict(\n",
    "        self,\n",
    "        d: dict,\n",
    "        datasets: list[Dataset],\n",
    "        recorded_metrics: list[str],\n",
    "        *,\n",
    "        dropna: bool = True,\n",
    "    ) -> Results:\n",
    "        # TODO: we could extract dataset_names for the dict but it's not ordered well\n",
    "        #   for that. Likewise for the recorded_metrics\n",
    "        #\n",
    "        # We do a lot of parsing here to massage things into a nice table\n",
    "        # Extract all the times listed in the keys\n",
    "        pattern = re.compile(\n",
    "            r\"(?P<method>\\w+)\"\n",
    "            r\"_time_(?P<time>\\d+(\\.\\d+)?)\"\n",
    "            r\"(_)?(?P<metric>\\w+)\"\n",
    "            r\"_split_(?P<split>\\d+)\"\n",
    "        )\n",
    "\n",
    "        groups = []\n",
    "        for key in d:\n",
    "            match = re.match(pattern, key)\n",
    "            if not match:\n",
    "                raise ValueError(key)\n",
    "\n",
    "            groups.append(match.groupdict())\n",
    "\n",
    "        matches = pd.DataFrame(groups)\n",
    "\n",
    "        # The unique, methods, times, metrics and splits present\n",
    "        methods = list(matches[\"method\"].unique())\n",
    "        times = list(matches[\"time\"].astype(float).unique())\n",
    "        metrics = list(matches[\"metric\"].unique())\n",
    "        splits = list(matches[\"split\"].astype(int).unique())\n",
    "\n",
    "        # Next we extract all the eval_positions\n",
    "        _eval_positions = set()\n",
    "        for v in d.values():\n",
    "            _eval_positions.update(v[\"eval_positions\"])\n",
    "        eval_positions = sorted(_eval_positions)\n",
    "\n",
    "        # Dataset names...\n",
    "        dataset_names = sorted([d.name for d in datasets])\n",
    "\n",
    "        # We flatten out the fit_time and inference_time of best_config\n",
    "        for (k, v), pos, dataset in product(d.items(), eval_positions, datasets):\n",
    "            old_best_configs_key = f\"{dataset.name}_best_configs_at_{pos}\"\n",
    "\n",
    "            best_config_key = f\"{dataset.name}_best_config\"\n",
    "            inference_time_key = f\"{dataset.name}_inference_time_at_{pos}\"\n",
    "            fit_time_key = f\"{dataset.name}_fit_time_at_{pos}\"\n",
    "\n",
    "            # If there is a best config\n",
    "            if \"transformer_gpu\" not in k and \"autosklearn\" not in k and any(v.get(old_best_configs_key, [])):\n",
    "                assert len(v[old_best_configs_key]) == 1\n",
    "\n",
    "                best_config = v[old_best_configs_key][0]\n",
    "\n",
    "                v[inference_time_key] = best_config.get(\"inference_time\", np.nan)\n",
    "                v[fit_time_key] = best_config.get(\"fit_time\", np.nan)\n",
    "                v[best_config_key] = best_config.copy()\n",
    "                del v[old_best_configs_key]\n",
    "            else:\n",
    "                v[inference_time_key] = np.nan\n",
    "                v[fit_time_key] = np.nan\n",
    "                v[best_config_key] = np.nan\n",
    "\n",
    "        index = pd.MultiIndex.from_product(\n",
    "            [methods, metrics, times, eval_positions, splits],\n",
    "            names=[\n",
    "                \"method\",\n",
    "                \"optimization_metric\",\n",
    "                \"optimization_time\",\n",
    "                \"eval_position\",\n",
    "                \"split\",\n",
    "            ],\n",
    "        )\n",
    "\n",
    "        metrics = recorded_metrics + [\"inference_time\", \"fit_time\"]\n",
    "        if \"time\" not in metrics:\n",
    "            metrics.append(\"time\")\n",
    "\n",
    "        columns = pd.MultiIndex.from_product(\n",
    "            [metrics, dataset_names],\n",
    "            names=[\"metric\", \"dataset\"],\n",
    "        )\n",
    "\n",
    "        df = pd.DataFrame(columns=columns, index=index)\n",
    "        df.sort_index(inplace=True)\n",
    "\n",
    "        for k, v in d.items():\n",
    "            match = re.match(pattern, k)\n",
    "            if match is None:\n",
    "                raise ValueError(k)\n",
    "\n",
    "            method = match.group(\"method\")\n",
    "            time = float(match.group(\"time\"))\n",
    "            opt_metric = match.group(\"metric\")\n",
    "            split = int(match.group(\"split\"))\n",
    "\n",
    "            for dataset, metric, pos in product(dataset_names, metrics, eval_positions):\n",
    "                row = (method, opt_metric, time, int(pos), split)\n",
    "                col = (metric, dataset)\n",
    "\n",
    "                value = v.get(f\"{dataset}_{metric}_at_{pos}\", np.nan)\n",
    "\n",
    "                df.loc[row, col] = value\n",
    "\n",
    "        # Drop full NaN rows\n",
    "        if dropna:\n",
    "            df = df[df.any(axis=1)]\n",
    "\n",
    "        return Results(df)\n",
    "\n",
    "    def at(\n",
    "        self,\n",
    "        *,\n",
    "        method: str | list[str] | None = None,\n",
    "        optimization_metric: str | list[str] | None = None,\n",
    "        optimization_time: float | list[float] | None = None,\n",
    "        split: int | list[int] | None = None,\n",
    "        eval_position: int | list[int] | None = None,\n",
    "        dataset: str | list[str] | None = None,\n",
    "        metric: str | list[str] | None = None,\n",
    "    ) -> Results:\n",
    "        \"\"\"Use this for slicing in to the dataframe to get what you need\"\"\"\n",
    "        df = self.df\n",
    "        items = {\n",
    "            \"method\": method,\n",
    "            \"optimization_time\": optimization_time,\n",
    "            \"optimization_metric\": optimization_metric,\n",
    "            \"split\": split,\n",
    "            \"eval_position\": eval_position,\n",
    "        }\n",
    "        for name, item in items.items():\n",
    "            if item is None:\n",
    "                continue\n",
    "            idx: list = item if isinstance(item, list) else [item]\n",
    "            df = df[df.index.get_level_values(name).isin(idx)]\n",
    "            if not isinstance(item, list):\n",
    "                df = df.droplevel(name, axis=\"index\")\n",
    "\n",
    "        if dataset:\n",
    "            _dataset = dataset if isinstance(dataset, list) else [dataset]\n",
    "            df = df.T.loc[df.T.index.get_level_values(\"dataset\").isin(_dataset)].T\n",
    "            if not isinstance(dataset, list):\n",
    "                df = df.droplevel(\"dataset\", axis=\"columns\")\n",
    "\n",
    "        if metric:\n",
    "            _metric = metric if isinstance(metric, list) else [metric]\n",
    "            df = df.T.loc[df.T.index.get_level_values(\"metric\").isin(_metric)].T\n",
    "            if not isinstance(metric, list):\n",
    "                df = df.droplevel(\"metric\", axis=\"columns\")\n",
    "\n",
    "        return Results(df)\n",
    "\n",
    "    @property\n",
    "    def methods(self) -> list[str]:\n",
    "        return list(self.df.index.get_level_values(\"method\").unique())\n",
    "\n",
    "    @property\n",
    "    def optimization_metrics(self) -> list[str]:\n",
    "        return list(self.df.index.get_level_values(\"optimization_metric\").unique())\n",
    "\n",
    "    @property\n",
    "    def optimization_times(self) -> list[float]:\n",
    "        return list(self.df.index.get_level_values(\"optimization_time\").unique())\n",
    "\n",
    "    @property\n",
    "    def eval_positions(self) -> list[int]:\n",
    "        return list(self.df.index.get_level_values(\"eval_position\").unique())\n",
    "    \n",
    "    @property\n",
    "    def splits(self) -> list[int]:\n",
    "        return list(self.df.index.get_level_values(\"split\").unique())\n",
    "\n",
    "    @property\n",
    "    def datasets(self) -> list[str]:\n",
    "        return list(self.df.columns.get_level_values(\"dataset\").unique())\n",
    "\n",
    "    @property\n",
    "    def metrics(self) -> list[str]:\n",
    "        return list(self.df.columns.get_level_values(\"metric\").unique())"
   ]
  },
  {
   "cell_type": "code",
   "execution_count": 6,
   "id": "c0161e00-d3fe-45bc-8e6b-de1008428d43",
   "metadata": {
    "tags": []
   },
   "outputs": [],
   "source": [
    "def eval_method(\n",
    "    datasets: list[Dataset],\n",
    "    label: str,\n",
    "    classifier_evaluator: Callable,\n",
    "    max_time: float | None,\n",
    "    metric_used: Callable,\n",
    "    split: int,\n",
    "    eval_positions: list[int],\n",
    "    result_path: Path,\n",
    "    append_metric: bool = True,\n",
    "    fetch_only: bool = False,\n",
    "    verbose: bool = False,\n",
    "    bptt: int = 2000,\n",
    "    overwrite: bool = False,\n",
    "):\n",
    "    \"\"\"Evaluate a given method.\"\"\"\n",
    "    if max_time is not None:\n",
    "        label += f\"_time_{max_time}\"\n",
    "\n",
    "    if append_metric:\n",
    "        label += f\"_{tb.get_scoring_string(metric_used, usage='')}\"\n",
    "\n",
    "    if isinstance(classifier_evaluator, partial):\n",
    "        device = classifier_evaluator.keywords.get(\"device\", \"cpu\")\n",
    "    else:\n",
    "        device = \"cpu\"\n",
    "    device = \"cpu\"\n",
    "\n",
    "    task_type = \"multiclass\"\n",
    "    if any(d.task_type != task_type for d in datasets):\n",
    "        raise RuntimeError(\"Not sure how to handle this yet\")\n",
    "\n",
    "    return evaluate(\n",
    "        datasets=[d.as_list() for d in datasets],\n",
    "        model=classifier_evaluator,\n",
    "        method=label,\n",
    "        bptt=bptt,\n",
    "        base_path=result_path,\n",
    "        eval_positions=eval_positions,\n",
    "        device=device,\n",
    "        max_splits=1,\n",
    "        overwrite=overwrite,\n",
    "        save=True,\n",
    "        metric_used=metric_used,\n",
    "        path_interfix=task_type,\n",
    "        fetch_only=fetch_only,\n",
    "        split_id=split,\n",
    "        verbose=verbose,\n",
    "        max_time=max_time,\n",
    "    )\n",
    "\n",
    "def do_evaluations(args: argparse.Namespace, datasets: list[Dataset]) -> Results:\n",
    "    results = {}\n",
    "    for method, metric, time, split in product(\n",
    "        args.methods,\n",
    "        args.optimization_metrics,\n",
    "        args.times,\n",
    "        range(1, args.splits+1),\n",
    "    ):\n",
    "        metric_f = METRICS[metric]\n",
    "        metric_name = tb.get_scoring_string(metric_f, usage=\"\")\n",
    "        key = f\"{method}_time_{time}{metric_name}_split_{split}\"\n",
    "\n",
    "        results[key] = eval_method(\n",
    "            datasets=datasets,\n",
    "            label=method,\n",
    "            result_path=args.result_path,\n",
    "            classifier_evaluator=METHODS[method],\n",
    "            eval_positions=args.eval_positions,  # It's a constant basically\n",
    "            fetch_only=args.fetch_only,\n",
    "            verbose=args.verbose,\n",
    "            max_time=time,\n",
    "            metric_used=metric_f,\n",
    "            split=split,\n",
    "            overwrite=args.overwrite,\n",
    "        )\n",
    "\n",
    "    datasets_as_list = [d.as_list() for d in datasets]\n",
    "\n",
    "    # This will update the results in place\n",
    "    for metric in args.recorded_metrics:\n",
    "        metric_f = METRICS[metric]\n",
    "        calculate_score(\n",
    "            metric=metric_f,\n",
    "            name=metric,\n",
    "            global_results=results,\n",
    "            ds=datasets_as_list,\n",
    "            eval_positions=args.eval_positions,\n",
    "        )\n",
    "\n",
    "    # We also get the times\n",
    "    calculate_score(\n",
    "        metric=time_metric,\n",
    "        name=\"time\",\n",
    "        global_results=results,\n",
    "        ds=datasets_as_list,\n",
    "        eval_positions=args.eval_positions,\n",
    "    )\n",
    "\n",
    "    return Results.from_dict(\n",
    "        results,\n",
    "        datasets=datasets,\n",
    "        recorded_metrics=args.recorded_metrics + [\"time\"],\n",
    "    )\n",
    "\n",
    "\"\"\"\n",
    "def do_cd_plot(\n",
    "    result: Results,\n",
    "    title_prefix: str,\n",
    "    fig_name: str,\n",
    "    path: Path,\n",
    "    metric: str = \"roc\",\n",
    "    figsize: tuple[int, int] = (12, 10),\n",
    "    dpi: int = 120,\n",
    "    extension: str = \"png\",\n",
    "    eval_position: int = 1_000,\n",
    "    shift_legend: bool = True,\n",
    "    method: str | List[str] | None = None\n",
    ") -> None:\n",
    "    for opt_time, opt_metric in zip(\n",
    "        result.optimization_times,\n",
    "        result.optimization_metrics,\n",
    "    ):\n",
    "        fig, axes = plt.subplots(1, 1, figsize=figsize, dpi=dpi)\n",
    "        Plotter(result).cd_plot(\n",
    "            method=method,\n",
    "            optimization_metric=opt_metric,\n",
    "            optimization_time=opt_time,\n",
    "            eval_position=eval_position,\n",
    "            metric=metric,\n",
    "            ax=axes,\n",
    "        )\n",
    "        axes.set_title(f\"{title_prefix} [opt_time={opt_time}, opt_metric={opt_metric}]\")\n",
    "\n",
    "        # if shift_legend:\n",
    "        #     sns.move_legend(axes, \"upper left\", bbox_to_anchor=(1, 1))\n",
    "\n",
    "        stem = f\"{fig_name}_opt_metric_{opt_metric}_opt_time_{opt_time}_metric_{metric}\"\n",
    "        if extension == 'tex':\n",
    "          tikzplotlib.save(path / f\"{stem}.{extension}\")\n",
    "        else:\n",
    "          fig.savefig(path / f\"{stem}.{extension}\", bbox_inches=\"tight\")\n",
    "          # Image(path / f\"{stem}.{extension}\")\n",
    "        #   fig.show()\n",
    "    return axes, fig\n",
    "\n",
    "def do_plot(\n",
    "    result: Results,\n",
    "    title_prefix: str,\n",
    "    fig_name: str,\n",
    "    path: Path,\n",
    "    metric: str = \"roc\",\n",
    "    figsize: tuple[int, int] = (12, 10),\n",
    "    dpi: int = 120,\n",
    "    extension: str = \"png\",\n",
    "    eval_position: int = 1_000,\n",
    "    shift_legend: bool = True,\n",
    "    bottom_families: str | None = None,\n",
    "    switch_colours_pairs: list[tuple[str]] | None = None\n",
    ") -> None:\n",
    "    for opt_time, opt_metric in zip(\n",
    "        result.optimization_times,\n",
    "        result.optimization_metrics,\n",
    "    ):\n",
    "        fig, axes = plt.subplots(1, 1, figsize=figsize, dpi=dpi)\n",
    "        Plotter(result).overall_plot(\n",
    "            optimization_metric=opt_metric,\n",
    "            optimization_time=opt_time,\n",
    "            eval_position=eval_position,\n",
    "            metric=metric,\n",
    "            ax=axes,\n",
    "            bottom_families=bottom_families,\n",
    "            switch_colours_pairs=switch_colours_pairs\n",
    "        )\n",
    "        axes.set_title(f\"{title_prefix} [opt_time={opt_time}, opt_metric={opt_metric}]\")\n",
    "\n",
    "        if shift_legend:\n",
    "            sns.move_legend(axes, \"upper left\", bbox_to_anchor=(1, 1))\n",
    "\n",
    "        stem = f\"{fig_name}_opt_metric_{opt_metric}_opt_time_{opt_time}_metric_{metric}\"\n",
    "\n",
    "\n",
    "        if extension == 'tex':\n",
    "          tikzplotlib.save(path / f\"{stem}.{extension}\")\n",
    "        else:\n",
    "          fig.savefig(path / f\"{stem}.{extension}\", bbox_inches=\"tight\")\n",
    "          # Image(path / f\"{stem}.{extension}\")\n",
    "          # fig.show()\n",
    "    return axes, fig\n",
    "\n",
    "import sys, os\n",
    "\n",
    "# Disable\n",
    "def blockPrint():\n",
    "    sys.stdout = open(os.devnull, 'w')\n",
    "\n",
    "# Restore\n",
    "def enablePrint():\n",
    "    sys.stdout = sys.__stdout__\n",
    "\"\"\";"
   ]
  },
  {
   "cell_type": "code",
   "execution_count": 7,
   "id": "9240d015-2e09-494e-b6ba-41e23b16b68b",
   "metadata": {
    "tags": []
   },
   "outputs": [
    {
     "name": "stderr",
     "output_type": "stream",
     "text": [
      "Calculating splitsfunctools.partial(<function transformer_metric at 0x7fee77983950>, device='cpu', N_ensemble_configurations=32) 312:   0%| | 0/1 [00:00<?, ?it/s"
     ]
    },
    {
     "name": "stdout",
     "output_type": "stream",
     "text": [
      "Train data shape torch.Size([312, 4])  Test data shape torch.Size([312, 4])\n"
     ]
    },
    {
     "name": "stderr",
     "output_type": "stream",
     "text": [
      "Calculating splitsfunctools.partial(<function transformer_metric at 0x7fee77983950>, device='cpu', N_ensemble_configurations=32) 312:   0%| | 0/1 [00:18<?, ?it/s\n",
      "/Users/calvinm/miniconda3/envs/tabpfn/lib/python3.7/site-packages/numpy/lib/npyio.py:528: VisibleDeprecationWarning: Creating an ndarray from ragged nested sequences (which is a list-or-tuple of lists-or-tuples-or ndarrays with different lengths or shapes) is deprecated. If you meant to do this, you must specify 'dtype=object' when creating the ndarray.\n",
      "  arr = np.asanyarray(arr)\n"
     ]
    },
    {
     "name": "stdout",
     "output_type": "stream",
     "text": [
      "saved results to /Users/calvinm/sandbox/TabPFN/results/tabular/multiclass/results_transformer_cpu_N_32_time_3600_roc_auc_balance-scale_312_624_1.npy\n"
     ]
    },
    {
     "name": "stderr",
     "output_type": "stream",
     "text": [
      "Calculating splitsfunctools.partial(<function transformer_metric at 0x7fee77983950>, device='cpu', N_ensemble_configurations=32) 1000:   0%| | 0/1 [00:00<?, ?it/"
     ]
    },
    {
     "name": "stdout",
     "output_type": "stream",
     "text": [
      "Train data shape torch.Size([1000, 76])  Test data shape torch.Size([1000, 76])\n"
     ]
    },
    {
     "name": "stderr",
     "output_type": "stream",
     "text": [
      "Calculating splitsfunctools.partial(<function transformer_metric at 0x7fee77983950>, device='cpu', N_ensemble_configurations=32) 1000:   0%| | 0/1 [01:26<?, ?it/\n",
      "/Users/calvinm/miniconda3/envs/tabpfn/lib/python3.7/site-packages/numpy/lib/npyio.py:528: VisibleDeprecationWarning: Creating an ndarray from ragged nested sequences (which is a list-or-tuple of lists-or-tuples-or ndarrays with different lengths or shapes) is deprecated. If you meant to do this, you must specify 'dtype=object' when creating the ndarray.\n",
      "  arr = np.asanyarray(arr)\n"
     ]
    },
    {
     "name": "stdout",
     "output_type": "stream",
     "text": [
      "saved results to /Users/calvinm/sandbox/TabPFN/results/tabular/multiclass/results_transformer_cpu_N_32_time_3600_roc_auc_mfeat-fourier_1000_2000_1.npy\n"
     ]
    },
    {
     "name": "stderr",
     "output_type": "stream",
     "text": [
      "Calculating splitsfunctools.partial(<function transformer_metric at 0x7fee77983950>, device='cpu', N_ensemble_configurations=32) 349:   0%| | 0/1 [00:00<?, ?it/s"
     ]
    },
    {
     "name": "stdout",
     "output_type": "stream",
     "text": [
      "Train data shape torch.Size([349, 9])  Test data shape torch.Size([349, 9])\n"
     ]
    },
    {
     "name": "stderr",
     "output_type": "stream",
     "text": [
      "Calculating splitsfunctools.partial(<function transformer_metric at 0x7fee77983950>, device='cpu', N_ensemble_configurations=32) 349:   0%| | 0/1 [00:18<?, ?it/s\n",
      "/Users/calvinm/miniconda3/envs/tabpfn/lib/python3.7/site-packages/numpy/lib/npyio.py:528: VisibleDeprecationWarning: Creating an ndarray from ragged nested sequences (which is a list-or-tuple of lists-or-tuples-or ndarrays with different lengths or shapes) is deprecated. If you meant to do this, you must specify 'dtype=object' when creating the ndarray.\n",
      "  arr = np.asanyarray(arr)\n"
     ]
    },
    {
     "name": "stdout",
     "output_type": "stream",
     "text": [
      "saved results to /Users/calvinm/sandbox/TabPFN/results/tabular/multiclass/results_transformer_cpu_N_32_time_3600_roc_auc_breast-w_349_698_1.npy\n"
     ]
    },
    {
     "name": "stderr",
     "output_type": "stream",
     "text": [
      "Calculating splitsfunctools.partial(<function transformer_metric at 0x7fee77983950>, device='cpu', N_ensemble_configurations=32) 1000:   0%| | 0/1 [00:00<?, ?it/"
     ]
    },
    {
     "name": "stdout",
     "output_type": "stream",
     "text": [
      "Train data shape torch.Size([1000, 64])  Test data shape torch.Size([1000, 64])\n"
     ]
    },
    {
     "name": "stderr",
     "output_type": "stream",
     "text": [
      "Calculating splitsfunctools.partial(<function transformer_metric at 0x7fee77983950>, device='cpu', N_ensemble_configurations=32) 1000:   0%| | 0/1 [01:23<?, ?it/\n",
      "/Users/calvinm/miniconda3/envs/tabpfn/lib/python3.7/site-packages/numpy/lib/npyio.py:528: VisibleDeprecationWarning: Creating an ndarray from ragged nested sequences (which is a list-or-tuple of lists-or-tuples-or ndarrays with different lengths or shapes) is deprecated. If you meant to do this, you must specify 'dtype=object' when creating the ndarray.\n",
      "  arr = np.asanyarray(arr)\n"
     ]
    },
    {
     "name": "stdout",
     "output_type": "stream",
     "text": [
      "saved results to /Users/calvinm/sandbox/TabPFN/results/tabular/multiclass/results_transformer_cpu_N_32_time_3600_roc_auc_mfeat-karhunen_1000_2000_1.npy\n"
     ]
    },
    {
     "name": "stderr",
     "output_type": "stream",
     "text": [
      "Calculating splitsfunctools.partial(<function transformer_metric at 0x7fee77983950>, device='cpu', N_ensemble_configurations=32) 1000:   0%| | 0/1 [00:00<?, ?it/"
     ]
    },
    {
     "name": "stdout",
     "output_type": "stream",
     "text": [
      "Train data shape torch.Size([1000, 6])  Test data shape torch.Size([1000, 6])\n"
     ]
    },
    {
     "name": "stderr",
     "output_type": "stream",
     "text": [
      "Calculating splitsfunctools.partial(<function transformer_metric at 0x7fee77983950>, device='cpu', N_ensemble_configurations=32) 1000:   0%| | 0/1 [01:31<?, ?it/\n",
      "/Users/calvinm/miniconda3/envs/tabpfn/lib/python3.7/site-packages/numpy/lib/npyio.py:528: VisibleDeprecationWarning: Creating an ndarray from ragged nested sequences (which is a list-or-tuple of lists-or-tuples-or ndarrays with different lengths or shapes) is deprecated. If you meant to do this, you must specify 'dtype=object' when creating the ndarray.\n",
      "  arr = np.asanyarray(arr)\n"
     ]
    },
    {
     "name": "stdout",
     "output_type": "stream",
     "text": [
      "saved results to /Users/calvinm/sandbox/TabPFN/results/tabular/multiclass/results_transformer_cpu_N_32_time_3600_roc_auc_mfeat-morphological_1000_2000_1.npy\n"
     ]
    },
    {
     "name": "stderr",
     "output_type": "stream",
     "text": [
      "Calculating splitsfunctools.partial(<function transformer_metric at 0x7fee77983950>, device='cpu', N_ensemble_configurations=32) 1000:   0%| | 0/1 [00:00<?, ?it/"
     ]
    },
    {
     "name": "stdout",
     "output_type": "stream",
     "text": [
      "Train data shape torch.Size([1000, 47])  Test data shape torch.Size([1000, 47])\n"
     ]
    },
    {
     "name": "stderr",
     "output_type": "stream",
     "text": [
      "Calculating splitsfunctools.partial(<function transformer_metric at 0x7fee77983950>, device='cpu', N_ensemble_configurations=32) 1000:   0%| | 0/1 [01:26<?, ?it/\n",
      "/Users/calvinm/miniconda3/envs/tabpfn/lib/python3.7/site-packages/numpy/lib/npyio.py:528: VisibleDeprecationWarning: Creating an ndarray from ragged nested sequences (which is a list-or-tuple of lists-or-tuples-or ndarrays with different lengths or shapes) is deprecated. If you meant to do this, you must specify 'dtype=object' when creating the ndarray.\n",
      "  arr = np.asanyarray(arr)\n"
     ]
    },
    {
     "name": "stdout",
     "output_type": "stream",
     "text": [
      "saved results to /Users/calvinm/sandbox/TabPFN/results/tabular/multiclass/results_transformer_cpu_N_32_time_3600_roc_auc_mfeat-zernike_1000_2000_1.npy\n"
     ]
    },
    {
     "name": "stderr",
     "output_type": "stream",
     "text": [
      "Calculating splitsfunctools.partial(<function transformer_metric at 0x7fee77983950>, device='cpu', N_ensemble_configurations=32) 736:   0%| | 0/1 [00:00<?, ?it/s"
     ]
    },
    {
     "name": "stdout",
     "output_type": "stream",
     "text": [
      "Train data shape torch.Size([736, 9])  Test data shape torch.Size([736, 9])\n"
     ]
    },
    {
     "name": "stderr",
     "output_type": "stream",
     "text": [
      "Calculating splitsfunctools.partial(<function transformer_metric at 0x7fee77983950>, device='cpu', N_ensemble_configurations=32) 736:   0%| | 0/1 [00:54<?, ?it/s\n",
      "/Users/calvinm/miniconda3/envs/tabpfn/lib/python3.7/site-packages/numpy/lib/npyio.py:528: VisibleDeprecationWarning: Creating an ndarray from ragged nested sequences (which is a list-or-tuple of lists-or-tuples-or ndarrays with different lengths or shapes) is deprecated. If you meant to do this, you must specify 'dtype=object' when creating the ndarray.\n",
      "  arr = np.asanyarray(arr)\n"
     ]
    },
    {
     "name": "stdout",
     "output_type": "stream",
     "text": [
      "saved results to /Users/calvinm/sandbox/TabPFN/results/tabular/multiclass/results_transformer_cpu_N_32_time_3600_roc_auc_cmc_736_1472_1.npy\n"
     ]
    },
    {
     "name": "stderr",
     "output_type": "stream",
     "text": [
      "Calculating splitsfunctools.partial(<function transformer_metric at 0x7fee77983950>, device='cpu', N_ensemble_configurations=32) 345:   0%| | 0/1 [00:00<?, ?it/s"
     ]
    },
    {
     "name": "stdout",
     "output_type": "stream",
     "text": [
      "Train data shape torch.Size([345, 15])  Test data shape torch.Size([345, 15])\n"
     ]
    },
    {
     "name": "stderr",
     "output_type": "stream",
     "text": [
      "Calculating splitsfunctools.partial(<function transformer_metric at 0x7fee77983950>, device='cpu', N_ensemble_configurations=32) 345:   0%| | 0/1 [00:18<?, ?it/s\n",
      "/Users/calvinm/miniconda3/envs/tabpfn/lib/python3.7/site-packages/numpy/lib/npyio.py:528: VisibleDeprecationWarning: Creating an ndarray from ragged nested sequences (which is a list-or-tuple of lists-or-tuples-or ndarrays with different lengths or shapes) is deprecated. If you meant to do this, you must specify 'dtype=object' when creating the ndarray.\n",
      "  arr = np.asanyarray(arr)\n"
     ]
    },
    {
     "name": "stdout",
     "output_type": "stream",
     "text": [
      "saved results to /Users/calvinm/sandbox/TabPFN/results/tabular/multiclass/results_transformer_cpu_N_32_time_3600_roc_auc_credit-approval_345_690_1.npy\n"
     ]
    },
    {
     "name": "stderr",
     "output_type": "stream",
     "text": [
      "Calculating splitsfunctools.partial(<function transformer_metric at 0x7fee77983950>, device='cpu', N_ensemble_configurations=32) 500:   0%| | 0/1 [00:00<?, ?it/s"
     ]
    },
    {
     "name": "stdout",
     "output_type": "stream",
     "text": [
      "Train data shape torch.Size([500, 20])  Test data shape torch.Size([500, 20])\n"
     ]
    },
    {
     "name": "stderr",
     "output_type": "stream",
     "text": [
      "Calculating splitsfunctools.partial(<function transformer_metric at 0x7fee77983950>, device='cpu', N_ensemble_configurations=32) 500:   0%| | 0/1 [00:29<?, ?it/s\n",
      "/Users/calvinm/miniconda3/envs/tabpfn/lib/python3.7/site-packages/numpy/lib/npyio.py:528: VisibleDeprecationWarning: Creating an ndarray from ragged nested sequences (which is a list-or-tuple of lists-or-tuples-or ndarrays with different lengths or shapes) is deprecated. If you meant to do this, you must specify 'dtype=object' when creating the ndarray.\n",
      "  arr = np.asanyarray(arr)\n"
     ]
    },
    {
     "name": "stdout",
     "output_type": "stream",
     "text": [
      "saved results to /Users/calvinm/sandbox/TabPFN/results/tabular/multiclass/results_transformer_cpu_N_32_time_3600_roc_auc_credit-g_500_1000_1.npy\n"
     ]
    },
    {
     "name": "stderr",
     "output_type": "stream",
     "text": [
      "Calculating splitsfunctools.partial(<function transformer_metric at 0x7fee77983950>, device='cpu', N_ensemble_configurations=32) 384:   0%| | 0/1 [00:00<?, ?it/s"
     ]
    },
    {
     "name": "stdout",
     "output_type": "stream",
     "text": [
      "Train data shape torch.Size([384, 8])  Test data shape torch.Size([384, 8])\n"
     ]
    },
    {
     "name": "stderr",
     "output_type": "stream",
     "text": [
      "Calculating splitsfunctools.partial(<function transformer_metric at 0x7fee77983950>, device='cpu', N_ensemble_configurations=32) 384:   0%| | 0/1 [00:21<?, ?it/s\n",
      "/Users/calvinm/miniconda3/envs/tabpfn/lib/python3.7/site-packages/numpy/lib/npyio.py:528: VisibleDeprecationWarning: Creating an ndarray from ragged nested sequences (which is a list-or-tuple of lists-or-tuples-or ndarrays with different lengths or shapes) is deprecated. If you meant to do this, you must specify 'dtype=object' when creating the ndarray.\n",
      "  arr = np.asanyarray(arr)\n"
     ]
    },
    {
     "name": "stdout",
     "output_type": "stream",
     "text": [
      "saved results to /Users/calvinm/sandbox/TabPFN/results/tabular/multiclass/results_transformer_cpu_N_32_time_3600_roc_auc_diabetes_384_768_1.npy\n"
     ]
    },
    {
     "name": "stderr",
     "output_type": "stream",
     "text": [
      "Calculating splitsfunctools.partial(<function transformer_metric at 0x7fee77983950>, device='cpu', N_ensemble_configurations=32) 479:   0%| | 0/1 [00:00<?, ?it/s"
     ]
    },
    {
     "name": "stdout",
     "output_type": "stream",
     "text": [
      "Train data shape torch.Size([479, 9])  Test data shape torch.Size([479, 9])\n"
     ]
    },
    {
     "name": "stderr",
     "output_type": "stream",
     "text": [
      "Calculating splitsfunctools.partial(<function transformer_metric at 0x7fee77983950>, device='cpu', N_ensemble_configurations=32) 479:   0%| | 0/1 [00:28<?, ?it/s\n",
      "/Users/calvinm/miniconda3/envs/tabpfn/lib/python3.7/site-packages/numpy/lib/npyio.py:528: VisibleDeprecationWarning: Creating an ndarray from ragged nested sequences (which is a list-or-tuple of lists-or-tuples-or ndarrays with different lengths or shapes) is deprecated. If you meant to do this, you must specify 'dtype=object' when creating the ndarray.\n",
      "  arr = np.asanyarray(arr)\n"
     ]
    },
    {
     "name": "stdout",
     "output_type": "stream",
     "text": [
      "saved results to /Users/calvinm/sandbox/TabPFN/results/tabular/multiclass/results_transformer_cpu_N_32_time_3600_roc_auc_tic-tac-toe_479_958_1.npy\n"
     ]
    },
    {
     "name": "stderr",
     "output_type": "stream",
     "text": [
      "Calculating splitsfunctools.partial(<function transformer_metric at 0x7fee77983950>, device='cpu', N_ensemble_configurations=32) 423:   0%| | 0/1 [00:00<?, ?it/s"
     ]
    },
    {
     "name": "stdout",
     "output_type": "stream",
     "text": [
      "Train data shape torch.Size([423, 18])  Test data shape torch.Size([423, 18])\n"
     ]
    },
    {
     "name": "stderr",
     "output_type": "stream",
     "text": [
      "Calculating splitsfunctools.partial(<function transformer_metric at 0x7fee77983950>, device='cpu', N_ensemble_configurations=32) 423:   0%| | 0/1 [00:23<?, ?it/s\n",
      "/Users/calvinm/miniconda3/envs/tabpfn/lib/python3.7/site-packages/numpy/lib/npyio.py:528: VisibleDeprecationWarning: Creating an ndarray from ragged nested sequences (which is a list-or-tuple of lists-or-tuples-or ndarrays with different lengths or shapes) is deprecated. If you meant to do this, you must specify 'dtype=object' when creating the ndarray.\n",
      "  arr = np.asanyarray(arr)\n"
     ]
    },
    {
     "name": "stdout",
     "output_type": "stream",
     "text": [
      "saved results to /Users/calvinm/sandbox/TabPFN/results/tabular/multiclass/results_transformer_cpu_N_32_time_3600_roc_auc_vehicle_423_846_1.npy\n"
     ]
    },
    {
     "name": "stderr",
     "output_type": "stream",
     "text": [
      "Calculating splitsfunctools.partial(<function transformer_metric at 0x7fee77983950>, device='cpu', N_ensemble_configurations=32) 368:   0%| | 0/1 [00:00<?, ?it/s"
     ]
    },
    {
     "name": "stdout",
     "output_type": "stream",
     "text": [
      "Train data shape torch.Size([368, 19])  Test data shape torch.Size([368, 19])\n"
     ]
    },
    {
     "name": "stderr",
     "output_type": "stream",
     "text": [
      "Calculating splitsfunctools.partial(<function transformer_metric at 0x7fee77983950>, device='cpu', N_ensemble_configurations=32) 368:   0%| | 0/1 [00:19<?, ?it/s\n",
      "/Users/calvinm/miniconda3/envs/tabpfn/lib/python3.7/site-packages/numpy/lib/npyio.py:528: VisibleDeprecationWarning: Creating an ndarray from ragged nested sequences (which is a list-or-tuple of lists-or-tuples-or ndarrays with different lengths or shapes) is deprecated. If you meant to do this, you must specify 'dtype=object' when creating the ndarray.\n",
      "  arr = np.asanyarray(arr)\n"
     ]
    },
    {
     "name": "stdout",
     "output_type": "stream",
     "text": [
      "saved results to /Users/calvinm/sandbox/TabPFN/results/tabular/multiclass/results_transformer_cpu_N_32_time_3600_roc_auc_eucalyptus_368_736_1.npy\n"
     ]
    },
    {
     "name": "stderr",
     "output_type": "stream",
     "text": [
      "Calculating splitsfunctools.partial(<function transformer_metric at 0x7fee77983950>, device='cpu', N_ensemble_configurations=32) 420:   0%| | 0/1 [00:00<?, ?it/s"
     ]
    },
    {
     "name": "stdout",
     "output_type": "stream",
     "text": [
      "Train data shape torch.Size([420, 70])  Test data shape torch.Size([420, 70])\n"
     ]
    },
    {
     "name": "stderr",
     "output_type": "stream",
     "text": [
      "Calculating splitsfunctools.partial(<function transformer_metric at 0x7fee77983950>, device='cpu', N_ensemble_configurations=32) 420:   0%| | 0/1 [00:23<?, ?it/s\n",
      "/Users/calvinm/miniconda3/envs/tabpfn/lib/python3.7/site-packages/numpy/lib/npyio.py:528: VisibleDeprecationWarning: Creating an ndarray from ragged nested sequences (which is a list-or-tuple of lists-or-tuples-or ndarrays with different lengths or shapes) is deprecated. If you meant to do this, you must specify 'dtype=object' when creating the ndarray.\n",
      "  arr = np.asanyarray(arr)\n"
     ]
    },
    {
     "name": "stdout",
     "output_type": "stream",
     "text": [
      "saved results to /Users/calvinm/sandbox/TabPFN/results/tabular/multiclass/results_transformer_cpu_N_32_time_3600_roc_auc_analcatdata_authorship_420_840_1.npy\n"
     ]
    },
    {
     "name": "stderr",
     "output_type": "stream",
     "text": [
      "Calculating splitsfunctools.partial(<function transformer_metric at 0x7fee77983950>, device='cpu', N_ensemble_configurations=32) 398:   0%| | 0/1 [00:00<?, ?it/s"
     ]
    },
    {
     "name": "stdout",
     "output_type": "stream",
     "text": [
      "Train data shape torch.Size([398, 4])  Test data shape torch.Size([398, 4])\n"
     ]
    },
    {
     "name": "stderr",
     "output_type": "stream",
     "text": [
      "Calculating splitsfunctools.partial(<function transformer_metric at 0x7fee77983950>, device='cpu', N_ensemble_configurations=32) 398:   0%| | 0/1 [00:23<?, ?it/s\n",
      "/Users/calvinm/miniconda3/envs/tabpfn/lib/python3.7/site-packages/numpy/lib/npyio.py:528: VisibleDeprecationWarning: Creating an ndarray from ragged nested sequences (which is a list-or-tuple of lists-or-tuples-or ndarrays with different lengths or shapes) is deprecated. If you meant to do this, you must specify 'dtype=object' when creating the ndarray.\n",
      "  arr = np.asanyarray(arr)\n"
     ]
    },
    {
     "name": "stdout",
     "output_type": "stream",
     "text": [
      "saved results to /Users/calvinm/sandbox/TabPFN/results/tabular/multiclass/results_transformer_cpu_N_32_time_3600_roc_auc_analcatdata_dmft_398_796_1.npy\n"
     ]
    },
    {
     "name": "stderr",
     "output_type": "stream",
     "text": [
      "Calculating splitsfunctools.partial(<function transformer_metric at 0x7fee77983950>, device='cpu', N_ensemble_configurations=32) 729:   0%| | 0/1 [00:00<?, ?it/s"
     ]
    },
    {
     "name": "stdout",
     "output_type": "stream",
     "text": [
      "Train data shape torch.Size([729, 37])  Test data shape torch.Size([729, 37])\n"
     ]
    },
    {
     "name": "stderr",
     "output_type": "stream",
     "text": [
      "Calculating splitsfunctools.partial(<function transformer_metric at 0x7fee77983950>, device='cpu', N_ensemble_configurations=32) 729:   0%| | 0/1 [00:53<?, ?it/s\n",
      "/Users/calvinm/miniconda3/envs/tabpfn/lib/python3.7/site-packages/numpy/lib/npyio.py:528: VisibleDeprecationWarning: Creating an ndarray from ragged nested sequences (which is a list-or-tuple of lists-or-tuples-or ndarrays with different lengths or shapes) is deprecated. If you meant to do this, you must specify 'dtype=object' when creating the ndarray.\n",
      "  arr = np.asanyarray(arr)\n"
     ]
    },
    {
     "name": "stdout",
     "output_type": "stream",
     "text": [
      "saved results to /Users/calvinm/sandbox/TabPFN/results/tabular/multiclass/results_transformer_cpu_N_32_time_3600_roc_auc_pc4_729_1458_1.npy\n"
     ]
    },
    {
     "name": "stderr",
     "output_type": "stream",
     "text": [
      "Calculating splitsfunctools.partial(<function transformer_metric at 0x7fee77983950>, device='cpu', N_ensemble_configurations=32) 781:   0%| | 0/1 [00:00<?, ?it/s"
     ]
    },
    {
     "name": "stdout",
     "output_type": "stream",
     "text": [
      "Train data shape torch.Size([781, 37])  Test data shape torch.Size([781, 37])\n"
     ]
    },
    {
     "name": "stderr",
     "output_type": "stream",
     "text": [
      "Calculating splitsfunctools.partial(<function transformer_metric at 0x7fee77983950>, device='cpu', N_ensemble_configurations=32) 781:   0%| | 0/1 [00:58<?, ?it/s\n",
      "/Users/calvinm/miniconda3/envs/tabpfn/lib/python3.7/site-packages/numpy/lib/npyio.py:528: VisibleDeprecationWarning: Creating an ndarray from ragged nested sequences (which is a list-or-tuple of lists-or-tuples-or ndarrays with different lengths or shapes) is deprecated. If you meant to do this, you must specify 'dtype=object' when creating the ndarray.\n",
      "  arr = np.asanyarray(arr)\n"
     ]
    },
    {
     "name": "stdout",
     "output_type": "stream",
     "text": [
      "saved results to /Users/calvinm/sandbox/TabPFN/results/tabular/multiclass/results_transformer_cpu_N_32_time_3600_roc_auc_pc3_781_1562_1.npy\n"
     ]
    },
    {
     "name": "stderr",
     "output_type": "stream",
     "text": [
      "Calculating splitsfunctools.partial(<function transformer_metric at 0x7fee77983950>, device='cpu', N_ensemble_configurations=32) 261:   0%| | 0/1 [00:00<?, ?it/s"
     ]
    },
    {
     "name": "stdout",
     "output_type": "stream",
     "text": [
      "Train data shape torch.Size([261, 21])  Test data shape torch.Size([261, 21])\n"
     ]
    },
    {
     "name": "stderr",
     "output_type": "stream",
     "text": [
      "Calculating splitsfunctools.partial(<function transformer_metric at 0x7fee77983950>, device='cpu', N_ensemble_configurations=32) 261:   0%| | 0/1 [00:13<?, ?it/s\n",
      "/Users/calvinm/miniconda3/envs/tabpfn/lib/python3.7/site-packages/numpy/lib/npyio.py:528: VisibleDeprecationWarning: Creating an ndarray from ragged nested sequences (which is a list-or-tuple of lists-or-tuples-or ndarrays with different lengths or shapes) is deprecated. If you meant to do this, you must specify 'dtype=object' when creating the ndarray.\n",
      "  arr = np.asanyarray(arr)\n"
     ]
    },
    {
     "name": "stdout",
     "output_type": "stream",
     "text": [
      "saved results to /Users/calvinm/sandbox/TabPFN/results/tabular/multiclass/results_transformer_cpu_N_32_time_3600_roc_auc_kc2_261_522_1.npy\n"
     ]
    },
    {
     "name": "stderr",
     "output_type": "stream",
     "text": [
      "Calculating splitsfunctools.partial(<function transformer_metric at 0x7fee77983950>, device='cpu', N_ensemble_configurations=32) 554:   0%| | 0/1 [00:00<?, ?it/s"
     ]
    },
    {
     "name": "stdout",
     "output_type": "stream",
     "text": [
      "Train data shape torch.Size([554, 21])  Test data shape torch.Size([554, 21])\n"
     ]
    },
    {
     "name": "stderr",
     "output_type": "stream",
     "text": [
      "Calculating splitsfunctools.partial(<function transformer_metric at 0x7fee77983950>, device='cpu', N_ensemble_configurations=32) 554:   0%| | 0/1 [00:37<?, ?it/s\n",
      "/Users/calvinm/miniconda3/envs/tabpfn/lib/python3.7/site-packages/numpy/lib/npyio.py:528: VisibleDeprecationWarning: Creating an ndarray from ragged nested sequences (which is a list-or-tuple of lists-or-tuples-or ndarrays with different lengths or shapes) is deprecated. If you meant to do this, you must specify 'dtype=object' when creating the ndarray.\n",
      "  arr = np.asanyarray(arr)\n"
     ]
    },
    {
     "name": "stdout",
     "output_type": "stream",
     "text": [
      "saved results to /Users/calvinm/sandbox/TabPFN/results/tabular/multiclass/results_transformer_cpu_N_32_time_3600_roc_auc_pc1_554_1108_1.npy\n"
     ]
    },
    {
     "name": "stderr",
     "output_type": "stream",
     "text": [
      "Calculating splitsfunctools.partial(<function transformer_metric at 0x7fee77983950>, device='cpu', N_ensemble_configurations=32) 686:   0%| | 0/1 [00:00<?, ?it/s"
     ]
    },
    {
     "name": "stdout",
     "output_type": "stream",
     "text": [
      "Train data shape torch.Size([686, 4])  Test data shape torch.Size([686, 4])\n"
     ]
    },
    {
     "name": "stderr",
     "output_type": "stream",
     "text": [
      "Calculating splitsfunctools.partial(<function transformer_metric at 0x7fee77983950>, device='cpu', N_ensemble_configurations=32) 686:   0%| | 0/1 [00:39<?, ?it/s\n",
      "/Users/calvinm/miniconda3/envs/tabpfn/lib/python3.7/site-packages/numpy/lib/npyio.py:528: VisibleDeprecationWarning: Creating an ndarray from ragged nested sequences (which is a list-or-tuple of lists-or-tuples-or ndarrays with different lengths or shapes) is deprecated. If you meant to do this, you must specify 'dtype=object' when creating the ndarray.\n",
      "  arr = np.asanyarray(arr)\n"
     ]
    },
    {
     "name": "stdout",
     "output_type": "stream",
     "text": [
      "saved results to /Users/calvinm/sandbox/TabPFN/results/tabular/multiclass/results_transformer_cpu_N_32_time_3600_roc_auc_banknote-authentication_686_1372_1.npy\n"
     ]
    },
    {
     "name": "stderr",
     "output_type": "stream",
     "text": [
      "Calculating splitsfunctools.partial(<function transformer_metric at 0x7fee77983950>, device='cpu', N_ensemble_configurations=32) 374:   0%| | 0/1 [00:00<?, ?it/s"
     ]
    },
    {
     "name": "stdout",
     "output_type": "stream",
     "text": [
      "Train data shape torch.Size([374, 4])  Test data shape torch.Size([374, 4])\n"
     ]
    },
    {
     "name": "stderr",
     "output_type": "stream",
     "text": [
      "Calculating splitsfunctools.partial(<function transformer_metric at 0x7fee77983950>, device='cpu', N_ensemble_configurations=32) 374:   0%| | 0/1 [00:16<?, ?it/s\n",
      "/Users/calvinm/miniconda3/envs/tabpfn/lib/python3.7/site-packages/numpy/lib/npyio.py:528: VisibleDeprecationWarning: Creating an ndarray from ragged nested sequences (which is a list-or-tuple of lists-or-tuples-or ndarrays with different lengths or shapes) is deprecated. If you meant to do this, you must specify 'dtype=object' when creating the ndarray.\n",
      "  arr = np.asanyarray(arr)\n"
     ]
    },
    {
     "name": "stdout",
     "output_type": "stream",
     "text": [
      "saved results to /Users/calvinm/sandbox/TabPFN/results/tabular/multiclass/results_transformer_cpu_N_32_time_3600_roc_auc_blood-transfusion-service-center_374_748_1.npy\n"
     ]
    },
    {
     "name": "stderr",
     "output_type": "stream",
     "text": [
      "Calculating splitsfunctools.partial(<function transformer_metric at 0x7fee77983950>, device='cpu', N_ensemble_configurations=32) 291:   0%| | 0/1 [00:00<?, ?it/s"
     ]
    },
    {
     "name": "stdout",
     "output_type": "stream",
     "text": [
      "Train data shape torch.Size([291, 10])  Test data shape torch.Size([291, 10])\n"
     ]
    },
    {
     "name": "stderr",
     "output_type": "stream",
     "text": [
      "Calculating splitsfunctools.partial(<function transformer_metric at 0x7fee77983950>, device='cpu', N_ensemble_configurations=32) 291:   0%| | 0/1 [00:16<?, ?it/s\n",
      "/Users/calvinm/miniconda3/envs/tabpfn/lib/python3.7/site-packages/numpy/lib/npyio.py:528: VisibleDeprecationWarning: Creating an ndarray from ragged nested sequences (which is a list-or-tuple of lists-or-tuples-or ndarrays with different lengths or shapes) is deprecated. If you meant to do this, you must specify 'dtype=object' when creating the ndarray.\n",
      "  arr = np.asanyarray(arr)\n"
     ]
    },
    {
     "name": "stdout",
     "output_type": "stream",
     "text": [
      "saved results to /Users/calvinm/sandbox/TabPFN/results/tabular/multiclass/results_transformer_cpu_N_32_time_3600_roc_auc_ilpd_291_582_1.npy\n"
     ]
    },
    {
     "name": "stderr",
     "output_type": "stream",
     "text": [
      "Calculating splitsfunctools.partial(<function transformer_metric at 0x7fee77983950>, device='cpu', N_ensemble_configurations=32) 527:   0%| | 0/1 [00:00<?, ?it/s"
     ]
    },
    {
     "name": "stdout",
     "output_type": "stream",
     "text": [
      "Train data shape torch.Size([527, 41])  Test data shape torch.Size([527, 41])\n"
     ]
    },
    {
     "name": "stderr",
     "output_type": "stream",
     "text": [
      "Calculating splitsfunctools.partial(<function transformer_metric at 0x7fee77983950>, device='cpu', N_ensemble_configurations=32) 527:   0%| | 0/1 [00:35<?, ?it/s\n",
      "/Users/calvinm/miniconda3/envs/tabpfn/lib/python3.7/site-packages/numpy/lib/npyio.py:528: VisibleDeprecationWarning: Creating an ndarray from ragged nested sequences (which is a list-or-tuple of lists-or-tuples-or ndarrays with different lengths or shapes) is deprecated. If you meant to do this, you must specify 'dtype=object' when creating the ndarray.\n",
      "  arr = np.asanyarray(arr)\n"
     ]
    },
    {
     "name": "stdout",
     "output_type": "stream",
     "text": [
      "saved results to /Users/calvinm/sandbox/TabPFN/results/tabular/multiclass/results_transformer_cpu_N_32_time_3600_roc_auc_qsar-biodeg_527_1054_1.npy\n"
     ]
    },
    {
     "name": "stderr",
     "output_type": "stream",
     "text": [
      "Calculating splitsfunctools.partial(<function transformer_metric at 0x7fee77983950>, device='cpu', N_ensemble_configurations=32) 284:   0%| | 0/1 [00:00<?, ?it/s"
     ]
    },
    {
     "name": "stdout",
     "output_type": "stream",
     "text": [
      "Train data shape torch.Size([284, 30])  Test data shape torch.Size([284, 30])\n"
     ]
    },
    {
     "name": "stderr",
     "output_type": "stream",
     "text": [
      "Calculating splitsfunctools.partial(<function transformer_metric at 0x7fee77983950>, device='cpu', N_ensemble_configurations=32) 284:   0%| | 0/1 [00:14<?, ?it/s\n",
      "/Users/calvinm/miniconda3/envs/tabpfn/lib/python3.7/site-packages/numpy/lib/npyio.py:528: VisibleDeprecationWarning: Creating an ndarray from ragged nested sequences (which is a list-or-tuple of lists-or-tuples-or ndarrays with different lengths or shapes) is deprecated. If you meant to do this, you must specify 'dtype=object' when creating the ndarray.\n",
      "  arr = np.asanyarray(arr)\n"
     ]
    },
    {
     "name": "stdout",
     "output_type": "stream",
     "text": [
      "saved results to /Users/calvinm/sandbox/TabPFN/results/tabular/multiclass/results_transformer_cpu_N_32_time_3600_roc_auc_wdbc_284_568_1.npy\n"
     ]
    },
    {
     "name": "stderr",
     "output_type": "stream",
     "text": [
      "Calculating splitsfunctools.partial(<function transformer_metric at 0x7fee77983950>, device='cpu', N_ensemble_configurations=32) 270:   0%| | 0/1 [00:00<?, ?it/s"
     ]
    },
    {
     "name": "stdout",
     "output_type": "stream",
     "text": [
      "Train data shape torch.Size([270, 37])  Test data shape torch.Size([270, 37])\n"
     ]
    },
    {
     "name": "stderr",
     "output_type": "stream",
     "text": [
      "Calculating splitsfunctools.partial(<function transformer_metric at 0x7fee77983950>, device='cpu', N_ensemble_configurations=32) 270:   0%| | 0/1 [00:13<?, ?it/s\n",
      "/Users/calvinm/miniconda3/envs/tabpfn/lib/python3.7/site-packages/numpy/lib/npyio.py:528: VisibleDeprecationWarning: Creating an ndarray from ragged nested sequences (which is a list-or-tuple of lists-or-tuples-or ndarrays with different lengths or shapes) is deprecated. If you meant to do this, you must specify 'dtype=object' when creating the ndarray.\n",
      "  arr = np.asanyarray(arr)\n"
     ]
    },
    {
     "name": "stdout",
     "output_type": "stream",
     "text": [
      "saved results to /Users/calvinm/sandbox/TabPFN/results/tabular/multiclass/results_transformer_cpu_N_32_time_3600_roc_auc_cylinder-bands_270_540_1.npy\n"
     ]
    },
    {
     "name": "stderr",
     "output_type": "stream",
     "text": [
      "Calculating splitsfunctools.partial(<function transformer_metric at 0x7fee77983950>, device='cpu', N_ensemble_configurations=32) 250:   0%| | 0/1 [00:00<?, ?it/s"
     ]
    },
    {
     "name": "stdout",
     "output_type": "stream",
     "text": [
      "Train data shape torch.Size([250, 12])  Test data shape torch.Size([250, 12])\n"
     ]
    },
    {
     "name": "stderr",
     "output_type": "stream",
     "text": [
      "Calculating splitsfunctools.partial(<function transformer_metric at 0x7fee77983950>, device='cpu', N_ensemble_configurations=32) 250:   0%| | 0/1 [00:12<?, ?it/s\n",
      "/Users/calvinm/miniconda3/envs/tabpfn/lib/python3.7/site-packages/numpy/lib/npyio.py:528: VisibleDeprecationWarning: Creating an ndarray from ragged nested sequences (which is a list-or-tuple of lists-or-tuples-or ndarrays with different lengths or shapes) is deprecated. If you meant to do this, you must specify 'dtype=object' when creating the ndarray.\n",
      "  arr = np.asanyarray(arr)\n"
     ]
    },
    {
     "name": "stdout",
     "output_type": "stream",
     "text": [
      "saved results to /Users/calvinm/sandbox/TabPFN/results/tabular/multiclass/results_transformer_cpu_N_32_time_3600_roc_auc_dresses-sales_250_500_1.npy\n"
     ]
    },
    {
     "name": "stderr",
     "output_type": "stream",
     "text": [
      "Calculating splitsfunctools.partial(<function transformer_metric at 0x7fee77983950>, device='cpu', N_ensemble_configurations=32) 540:   0%| | 0/1 [00:00<?, ?it/s"
     ]
    },
    {
     "name": "stdout",
     "output_type": "stream",
     "text": [
      "Train data shape torch.Size([540, 77])  Test data shape torch.Size([540, 77])\n"
     ]
    },
    {
     "name": "stderr",
     "output_type": "stream",
     "text": [
      "Calculating splitsfunctools.partial(<function transformer_metric at 0x7fee77983950>, device='cpu', N_ensemble_configurations=32) 540:   0%| | 0/1 [00:35<?, ?it/s\n",
      "/Users/calvinm/miniconda3/envs/tabpfn/lib/python3.7/site-packages/numpy/lib/npyio.py:528: VisibleDeprecationWarning: Creating an ndarray from ragged nested sequences (which is a list-or-tuple of lists-or-tuples-or ndarrays with different lengths or shapes) is deprecated. If you meant to do this, you must specify 'dtype=object' when creating the ndarray.\n",
      "  arr = np.asanyarray(arr)\n"
     ]
    },
    {
     "name": "stdout",
     "output_type": "stream",
     "text": [
      "saved results to /Users/calvinm/sandbox/TabPFN/results/tabular/multiclass/results_transformer_cpu_N_32_time_3600_roc_auc_MiceProtein_540_1080_1.npy\n"
     ]
    },
    {
     "name": "stderr",
     "output_type": "stream",
     "text": [
      "Calculating splitsfunctools.partial(<function transformer_metric at 0x7fee77983950>, device='cpu', N_ensemble_configurations=32) 864:   0%| | 0/1 [00:00<?, ?it/s"
     ]
    },
    {
     "name": "stdout",
     "output_type": "stream",
     "text": [
      "Train data shape torch.Size([864, 6])  Test data shape torch.Size([864, 6])\n"
     ]
    },
    {
     "name": "stderr",
     "output_type": "stream",
     "text": [
      "Calculating splitsfunctools.partial(<function transformer_metric at 0x7fee77983950>, device='cpu', N_ensemble_configurations=32) 864:   0%| | 0/1 [01:12<?, ?it/s\n",
      "/Users/calvinm/miniconda3/envs/tabpfn/lib/python3.7/site-packages/numpy/lib/npyio.py:528: VisibleDeprecationWarning: Creating an ndarray from ragged nested sequences (which is a list-or-tuple of lists-or-tuples-or ndarrays with different lengths or shapes) is deprecated. If you meant to do this, you must specify 'dtype=object' when creating the ndarray.\n",
      "  arr = np.asanyarray(arr)\n"
     ]
    },
    {
     "name": "stdout",
     "output_type": "stream",
     "text": [
      "saved results to /Users/calvinm/sandbox/TabPFN/results/tabular/multiclass/results_transformer_cpu_N_32_time_3600_roc_auc_car_864_1728_1.npy\n"
     ]
    },
    {
     "name": "stderr",
     "output_type": "stream",
     "text": [
      "Calculating splitsfunctools.partial(<function transformer_metric at 0x7fee77983950>, device='cpu', N_ensemble_configurations=32) 970:   0%| | 0/1 [00:00<?, ?it/s"
     ]
    },
    {
     "name": "stdout",
     "output_type": "stream",
     "text": [
      "Train data shape torch.Size([970, 27])  Test data shape torch.Size([970, 27])\n"
     ]
    },
    {
     "name": "stderr",
     "output_type": "stream",
     "text": [
      "Calculating splitsfunctools.partial(<function transformer_metric at 0x7fee77983950>, device='cpu', N_ensemble_configurations=32) 970:   0%| | 0/1 [01:18<?, ?it/s\n",
      "/Users/calvinm/miniconda3/envs/tabpfn/lib/python3.7/site-packages/numpy/lib/npyio.py:528: VisibleDeprecationWarning: Creating an ndarray from ragged nested sequences (which is a list-or-tuple of lists-or-tuples-or ndarrays with different lengths or shapes) is deprecated. If you meant to do this, you must specify 'dtype=object' when creating the ndarray.\n",
      "  arr = np.asanyarray(arr)\n"
     ]
    },
    {
     "name": "stdout",
     "output_type": "stream",
     "text": [
      "saved results to /Users/calvinm/sandbox/TabPFN/results/tabular/multiclass/results_transformer_cpu_N_32_time_3600_roc_auc_steel-plates-fault_970_1940_1.npy\n"
     ]
    },
    {
     "name": "stderr",
     "output_type": "stream",
     "text": [
      "Calculating splitsfunctools.partial(<function transformer_metric at 0x7fee77983950>, device='cpu', N_ensemble_configurations=32) 270:   0%| | 0/1 [00:00<?, ?it/s"
     ]
    },
    {
     "name": "stdout",
     "output_type": "stream",
     "text": [
      "Train data shape torch.Size([270, 18])  Test data shape torch.Size([270, 18])\n"
     ]
    },
    {
     "name": "stderr",
     "output_type": "stream",
     "text": [
      "Calculating splitsfunctools.partial(<function transformer_metric at 0x7fee77983950>, device='cpu', N_ensemble_configurations=32) 270:   0%| | 0/1 [00:13<?, ?it/s\n",
      "/Users/calvinm/miniconda3/envs/tabpfn/lib/python3.7/site-packages/numpy/lib/npyio.py:528: VisibleDeprecationWarning: Creating an ndarray from ragged nested sequences (which is a list-or-tuple of lists-or-tuples-or ndarrays with different lengths or shapes) is deprecated. If you meant to do this, you must specify 'dtype=object' when creating the ndarray.\n",
      "  arr = np.asanyarray(arr)\n"
     ]
    },
    {
     "name": "stdout",
     "output_type": "stream",
     "text": [
      "saved results to /Users/calvinm/sandbox/TabPFN/results/tabular/multiclass/results_transformer_cpu_N_32_time_3600_roc_auc_climate-model-simulation-crashes_270_540_1.npy\n",
      "Error calculating metric with Expected argument `task` to either be `'binary'` or `'multiclass'` but got None, <class 'ValueError'> at balance-scale 1000 ece\n",
      "Error calculating metric with Expected argument `task` to either be `'binary'` or `'multiclass'` but got None, <class 'ValueError'> at mfeat-fourier 1000 ece\n",
      "Error calculating metric with Expected argument `task` to either be `'binary'` or `'multiclass'` but got None, <class 'ValueError'> at breast-w 1000 ece\n",
      "Error calculating metric with Expected argument `task` to either be `'binary'` or `'multiclass'` but got None, <class 'ValueError'> at mfeat-karhunen 1000 ece\n",
      "Error calculating metric with Expected argument `task` to either be `'binary'` or `'multiclass'` but got None, <class 'ValueError'> at mfeat-morphological 1000 ece\n",
      "Error calculating metric with Expected argument `task` to either be `'binary'` or `'multiclass'` but got None, <class 'ValueError'> at mfeat-zernike 1000 ece\n",
      "Error calculating metric with Expected argument `task` to either be `'binary'` or `'multiclass'` but got None, <class 'ValueError'> at cmc 1000 ece\n",
      "Error calculating metric with Expected argument `task` to either be `'binary'` or `'multiclass'` but got None, <class 'ValueError'> at credit-approval 1000 ece\n",
      "Error calculating metric with Expected argument `task` to either be `'binary'` or `'multiclass'` but got None, <class 'ValueError'> at credit-g 1000 ece\n",
      "Error calculating metric with Expected argument `task` to either be `'binary'` or `'multiclass'` but got None, <class 'ValueError'> at diabetes 1000 ece\n",
      "Error calculating metric with Expected argument `task` to either be `'binary'` or `'multiclass'` but got None, <class 'ValueError'> at tic-tac-toe 1000 ece\n",
      "Error calculating metric with Expected argument `task` to either be `'binary'` or `'multiclass'` but got None, <class 'ValueError'> at vehicle 1000 ece\n",
      "Error calculating metric with Expected argument `task` to either be `'binary'` or `'multiclass'` but got None, <class 'ValueError'> at eucalyptus 1000 ece\n",
      "Error calculating metric with Expected argument `task` to either be `'binary'` or `'multiclass'` but got None, <class 'ValueError'> at analcatdata_authorship 1000 ece\n",
      "Error calculating metric with Expected argument `task` to either be `'binary'` or `'multiclass'` but got None, <class 'ValueError'> at analcatdata_dmft 1000 ece\n",
      "Error calculating metric with Expected argument `task` to either be `'binary'` or `'multiclass'` but got None, <class 'ValueError'> at pc4 1000 ece\n",
      "Error calculating metric with Expected argument `task` to either be `'binary'` or `'multiclass'` but got None, <class 'ValueError'> at pc3 1000 ece\n",
      "Error calculating metric with Expected argument `task` to either be `'binary'` or `'multiclass'` but got None, <class 'ValueError'> at kc2 1000 ece\n",
      "Error calculating metric with Expected argument `task` to either be `'binary'` or `'multiclass'` but got None, <class 'ValueError'> at pc1 1000 ece\n",
      "Error calculating metric with Expected argument `task` to either be `'binary'` or `'multiclass'` but got None, <class 'ValueError'> at banknote-authentication 1000 ece\n",
      "Error calculating metric with Expected argument `task` to either be `'binary'` or `'multiclass'` but got None, <class 'ValueError'> at blood-transfusion-service-center 1000 ece\n",
      "Error calculating metric with Expected argument `task` to either be `'binary'` or `'multiclass'` but got None, <class 'ValueError'> at ilpd 1000 ece\n",
      "Error calculating metric with Expected argument `task` to either be `'binary'` or `'multiclass'` but got None, <class 'ValueError'> at qsar-biodeg 1000 ece\n",
      "Error calculating metric with Expected argument `task` to either be `'binary'` or `'multiclass'` but got None, <class 'ValueError'> at wdbc 1000 ece\n",
      "Error calculating metric with Expected argument `task` to either be `'binary'` or `'multiclass'` but got None, <class 'ValueError'> at cylinder-bands 1000 ece\n",
      "Error calculating metric with Expected argument `task` to either be `'binary'` or `'multiclass'` but got None, <class 'ValueError'> at dresses-sales 1000 ece\n",
      "Error calculating metric with Expected argument `task` to either be `'binary'` or `'multiclass'` but got None, <class 'ValueError'> at MiceProtein 1000 ece\n",
      "Error calculating metric with Expected argument `task` to either be `'binary'` or `'multiclass'` but got None, <class 'ValueError'> at car 1000 ece\n",
      "Error calculating metric with Expected argument `task` to either be `'binary'` or `'multiclass'` but got None, <class 'ValueError'> at steel-plates-fault 1000 ece\n",
      "Error calculating metric with Expected argument `task` to either be `'binary'` or `'multiclass'` but got None, <class 'ValueError'> at climate-model-simulation-crashes 1000 ece\n"
     ]
    }
   ],
   "source": [
    "from argparse import Namespace\n",
    "\n",
    "# For your own custom evaluation, please comment out the one from below\n",
    "args = Namespace(\n",
    "    result_path=HERE, # Where to store results - HERE/results\n",
    "    gpu=False,  # Whether a GPU is accessible\n",
    "    times=[3600], # How much optimization time is given to methods requiring it\n",
    "    splits=1, # How many splits to run\n",
    "    validation_datasets=\"cc_valid\", # \"cc_valid\" or list of openml ids\n",
    "    test_datasets=\"cc_test\", # \"cc_test\" or list of openml ids\n",
    "    optimization_metrics=[\"roc\"], # [\"roc\", \"cross_entropy\", \"acc\", \"brier_score\", \"ece\"]m\n",
    "    recorded_metrics=[\"roc\", \"cross_entropy\", \"acc\", \"brier_score\", \"ece\"], # Same as above\n",
    "    methods=[\"transformer_cpu_N_32\"], # See keys of METHODS in Constants section\n",
    "    fetch_only=False, # Will only fetch results and not compute anything\n",
    "    bptt=2_000, # Transformer sequence length\n",
    "    eval_positions=[1_000], # Leave as is\n",
    "    overwrite=True, # Will overwrite results\n",
    "    plot=False, # Do plots\n",
    "    plot_directory=HERE/ \"plots\",  # Where to store plots\n",
    "    figsize=(14, 10),  # The figure size for matplotlib\n",
    "    dpi=140,  # The DPI for figures by matplotlib\n",
    "    extension=\"pdf\", # The extension for saving figures\n",
    "    verbose=True,\n",
    "\n",
    "    # Use this to use the predefined results from experiments\n",
    "    # See the commented out block below\n",
    "    load_predefined_results=False,\n",
    "    predefined_results_path=PREDEFINED_RESULTS_PATH,\n",
    ")\n",
    "\n",
    "# We need to create some directories for this to work\n",
    "(args.result_path / \"results\" / \"tabular\" / \"multiclass\").mkdir(\n",
    "    parents=True, exist_ok=True\n",
    ")\n",
    "#\"\"\";\n",
    "\n",
    "# We ignore the flags datasets\n",
    "filter_f = lambda d: d.name != \"flags\"  # noqa: ignore\n",
    "\n",
    "valid_datasets = Dataset.fetch(\"cc_valid\", only=filter_f)\n",
    "test_datasets = Dataset.fetch(\"cc_test\", only=filter_f)\n",
    "\n",
    "all_datasets = valid_datasets + test_datasets\n",
    "\n",
    "dataset_collections = {\n",
    "    \"All Datasets\": [d.name for d in all_datasets],\n",
    "    \"Categorical Datasets\": [d.name for d in all_datasets if d.categorical or d.mixed],\n",
    "    \"Numerical Datasets\": [d.name for d in all_datasets if d.numerical],\n",
    "    \"Validation Datasets\": [d.name for d in valid_datasets],\n",
    "    \"Categorical Validation Datasets\": [\n",
    "        d.name for d in valid_datasets if d.categorical or d.mixed\n",
    "    ],\n",
    "    \"Numerical Validation Datasets\": [\n",
    "        d.name for d in valid_datasets if d.numerical\n",
    "    ],\n",
    "    \"Test Datasets\": [d.name for d in test_datasets],\n",
    "    \"Categorical Test Datasets\": [\n",
    "        d.name for d in test_datasets if d.categorical or d.mixed\n",
    "    ],\n",
    "    \"Numerical Test Datasets\": [d.name for d in test_datasets if d.numerical],\n",
    "}\n",
    "result = do_evaluations(args, test_datasets)"
   ]
  },
  {
   "cell_type": "code",
   "execution_count": 8,
   "id": "eef00afa-074f-44e8-9ee2-96f7c42ee303",
   "metadata": {
    "tags": []
   },
   "outputs": [
    {
     "name": "stdout",
     "output_type": "stream",
     "text": [
      "method                optimization_metric  optimization_time  eval_position  split\n",
      "transformer_cpu_N_32  roc_auc              3600.0             1000           1        0.999942\n",
      "Name: (roc, balance-scale), dtype: object\n",
      "method                optimization_metric  optimization_time  eval_position  split\n",
      "transformer_cpu_N_32  roc_auc              3600.0             1000           1        0.579894\n",
      "Name: (roc, analcatdata_dmft), dtype: object\n"
     ]
    }
   ],
   "source": [
    "print(result.df[(\"roc\", \"balance-scale\")])\n",
    "print(result.df[(\"roc\", \"analcatdata_dmft\")])"
   ]
  },
  {
   "cell_type": "code",
   "execution_count": 10,
   "id": "7c8e2150-8b79-4506-a320-0e599976babb",
   "metadata": {
    "tags": []
   },
   "outputs": [],
   "source": [
    "table2 = [\n",
    "    (\"balance-scale\", 0.9973),\n",
    "    (\"mfeat-fourier\", 0.9811),\n",
    "    (\"breast-w\", 0.9934),\n",
    "    (\"mfeat-karhunen\", 0.9978),\n",
    "    (\"mfeat-morphological\", 0.9669),\n",
    "    (\"mfeat-zernike\", 0.9823),\n",
    "    (\"cmc\", 0.7276),\n",
    "    (\"credit-approval\", 0.9322),\n",
    "    (\"credit-g\", 0.7894),\n",
    "    (\"diabetes\", 0.8410),\n",
    "    (\"tic-tac-toe\", 0.9759),\n",
    "    (\"vehicle\", 0.9589),\n",
    "    (\"eucalyptus\", 0.9245),\n",
    "    (\"analcatdata_authorship\", 1.),\n",
    "    (\"analcatdata_dmft\", 0.579),\n",
    "    (\"pc4\", 0.9383),\n",
    "    (\"pc3\", 0.8373),\n",
    "    (\"kc2\", 0.8346),\n",
    "    (\"pc1\", 0.8761),\n",
    "    (\"banknote-authentication\", 1.),\n",
    "    (\"blood-transfusion-service-center\", 0.7549),\n",
    "    (\"ilpd\", 0.7379),\n",
    "    (\"qsar-biodeg\", 0.9336),\n",
    "    (\"wdbc\", 0.9964),\n",
    "    (\"cylinder-bands\", 0.8336),\n",
    "    (\"dresses-sales\", 0.5376),\n",
    "    (\"MiceProtein\", 0.9999),\n",
    "    (\"car\", 0.995),\n",
    "    (\"steel-plates-fault\", 0.9655),\n",
    "    (\"climate-model-simulation-crashes\", 0.9415),\n",
    "]"
   ]
  },
  {
   "cell_type": "code",
   "execution_count": 11,
   "id": "2cd66016-345f-4920-aff6-e49bd109b423",
   "metadata": {
    "tags": []
   },
   "outputs": [],
   "source": [
    "result.df[\"roc\"].to_parquet(\"cc_test_30_transformer_cpu_N_32_kditransform.parquet\")"
   ]
  },
  {
   "cell_type": "code",
   "execution_count": 32,
   "id": "4c749004-0358-4798-b149-0274b88aa3b2",
   "metadata": {
    "tags": []
   },
   "outputs": [],
   "source": [
    "replicate_df = pd.concat([result.df[\"roc\"].mean(axis=0), pd.Series(dict(table2))], axis=1)\n",
    "replicate_df.columns = [\"me\", \"paper\"]"
   ]
  },
  {
   "cell_type": "code",
   "execution_count": 33,
   "id": "fca5638d-6c47-447b-8432-07c3e4ef4324",
   "metadata": {
    "tags": []
   },
   "outputs": [
    {
     "data": {
      "image/png": "[encoded data removed]",
      "text/plain": [
       "<Figure size 640x480 with 1 Axes>"
      ]
     },
     "metadata": {},
     "output_type": "display_data"
    }
   ],
   "source": [
    "plt.scatter(replicate_df.values[:, 0], replicate_df.values[:, 1]);\n",
    "plt.plot([0, 1], [0, 1], 'k');"
   ]
  },
  {
   "cell_type": "code",
   "execution_count": 34,
   "id": "e7a64e6c-9e42-45f9-b3c2-ccbff9a5bdf5",
   "metadata": {
    "tags": []
   },
   "outputs": [],
   "source": [
    "table2datasets = [\n",
    "    'balance-scale',\n",
    "    'mfeat-fourier',\n",
    "    'mfeat-karhunen',\n",
    "    'mfeat-morphological',\n",
    "    'mfeat-zernike',\n",
    "    'diabetes',\n",
    "    'vehicle',\n",
    "    'analcatdata_authorship',\n",
    "    'pc4',\n",
    "    'pc3',\n",
    "    'kc2',\n",
    "    'pc1',\n",
    "    'wdbc',\n",
    "    'qsar-biodeg',\n",
    "    'banknote-authentication',\n",
    "    'blood-transfusion-service-center',\n",
    "    'steel-plates-fault',\n",
    "    'climate-model-simulation-crashes',\n",
    "]"
   ]
  },
  {
   "cell_type": "code",
   "execution_count": 35,
   "id": "eb4358c7-1b8b-44d9-a87f-96da004aca60",
   "metadata": {
    "tags": []
   },
   "outputs": [
    {
     "data": {
      "text/plain": [
       "me       0.895095\n",
       "paper    0.894317\n",
       "dtype: float64"
      ]
     },
     "execution_count": 35,
     "metadata": {},
     "output_type": "execute_result"
    }
   ],
   "source": [
    "replicate_df.mean()"
   ]
  },
  {
   "cell_type": "code",
   "execution_count": 36,
   "id": "8ca9816c-e1f5-4ee2-86a6-186cd8d321c1",
   "metadata": {
    "tags": []
   },
   "outputs": [
    {
     "data": {
      "text/plain": [
       "me       0.934366\n",
       "paper    0.933528\n",
       "dtype: float64"
      ]
     },
     "execution_count": 36,
     "metadata": {},
     "output_type": "execute_result"
    }
   ],
   "source": [
    "replicate_df.loc[table2datasets].mean()"
   ]
  },
  {
   "cell_type": "code",
   "execution_count": null,
   "id": "29c6239a-9c7f-437a-9c59-9996af5d6e69",
   "metadata": {},
   "outputs": [],
   "source": []
  }
 ],
 "metadata": {
  "kernelspec": {
   "display_name": "Python 3 (ipykernel)",
   "language": "python",
   "name": "python3"
  },
  "language_info": {
   "codemirror_mode": {
    "name": "ipython",
    "version": 3
   },
   "file_extension": ".py",
   "mimetype": "text/x-python",
   "name": "python",
   "nbconvert_exporter": "python",
   "pygments_lexer": "ipython3",
   "version": "3.7.16"
  }
 },
 "nbformat": 4,
 "nbformat_minor": 5
}
